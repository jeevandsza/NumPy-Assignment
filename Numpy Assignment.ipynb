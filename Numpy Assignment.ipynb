{
 "cells": [
  {
   "cell_type": "code",
   "execution_count": 6,
   "id": "marked-attribute",
   "metadata": {},
   "outputs": [],
   "source": [
    "import pandas as pd\n",
    "import numpy as np\n",
    "import seaborn as sns\n"
   ]
  },
  {
   "cell_type": "markdown",
   "id": "employed-thickness",
   "metadata": {},
   "source": [
    "# 1. Create a null vector of size 10 but the fifth value which is 1."
   ]
  },
  {
   "cell_type": "code",
   "execution_count": 8,
   "id": "flush-austin",
   "metadata": {},
   "outputs": [],
   "source": [
    "x=np.zeros(10)\n",
    "x[4]=1"
   ]
  },
  {
   "cell_type": "code",
   "execution_count": 12,
   "id": "headed-orange",
   "metadata": {},
   "outputs": [
    {
     "data": {
      "text/plain": [
       "array([0., 0., 0., 0., 1., 0., 0., 0., 0., 0.])"
      ]
     },
     "execution_count": 12,
     "metadata": {},
     "output_type": "execute_result"
    }
   ],
   "source": [
    "x"
   ]
  },
  {
   "cell_type": "markdown",
   "id": "intimate-cheese",
   "metadata": {},
   "source": [
    "# 2. Create a vector with values ranging from 10 to 49.\n"
   ]
  },
  {
   "cell_type": "code",
   "execution_count": 19,
   "id": "eleven-means",
   "metadata": {},
   "outputs": [
    {
     "data": {
      "text/plain": [
       "array([10, 11, 12, 13, 14, 15, 16, 17, 18, 19, 20, 21, 22, 23, 24, 25, 26,\n",
       "       27, 28, 29, 30, 31, 32, 33, 34, 35, 36, 37, 38, 39, 40, 41, 42, 43,\n",
       "       44, 45, 46, 47, 48, 49])"
      ]
     },
     "execution_count": 19,
     "metadata": {},
     "output_type": "execute_result"
    }
   ],
   "source": [
    "a = np.arange(10,50)\n",
    "\n",
    "a"
   ]
  },
  {
   "cell_type": "markdown",
   "id": "conservative-browse",
   "metadata": {},
   "source": [
    "# 3. Create a 3x3 matrix with values ranging from 0 to 8\n"
   ]
  },
  {
   "cell_type": "code",
   "execution_count": 21,
   "id": "outside-genome",
   "metadata": {},
   "outputs": [
    {
     "data": {
      "text/plain": [
       "array([[0, 1, 2],\n",
       "       [3, 4, 5],\n",
       "       [6, 7, 8]])"
      ]
     },
     "execution_count": 21,
     "metadata": {},
     "output_type": "execute_result"
    }
   ],
   "source": [
    "x =  np.arange(0, 9).reshape(3,3)\n",
    "x"
   ]
  },
  {
   "cell_type": "markdown",
   "id": "amazing-accounting",
   "metadata": {},
   "source": [
    "# 4. Find indices of non-zero elements from [1,2,0,0,4,0]\n"
   ]
  },
  {
   "cell_type": "code",
   "execution_count": 59,
   "id": "baking-retirement",
   "metadata": {},
   "outputs": [
    {
     "data": {
      "text/plain": [
       "array([1, 2, 0, 0, 4, 0])"
      ]
     },
     "execution_count": 59,
     "metadata": {},
     "output_type": "execute_result"
    }
   ],
   "source": [
    "x = np.array([1,2,0,0,4,0])\n",
    "x\n"
   ]
  },
  {
   "cell_type": "code",
   "execution_count": 60,
   "id": "lucky-contest",
   "metadata": {},
   "outputs": [
    {
     "data": {
      "text/plain": [
       "(array([0, 1, 4], dtype=int64),)"
      ]
     },
     "execution_count": 60,
     "metadata": {},
     "output_type": "execute_result"
    }
   ],
   "source": [
    "\n",
    "np.nonzero(x)\n"
   ]
  },
  {
   "cell_type": "markdown",
   "id": "motivated-season",
   "metadata": {},
   "source": [
    "# 5. Create a 10x10 array with random values and find the minimum and maximum values.\n"
   ]
  },
  {
   "cell_type": "code",
   "execution_count": 31,
   "id": "random-wings",
   "metadata": {},
   "outputs": [
    {
     "name": "stdout",
     "output_type": "stream",
     "text": [
      "Original Array:\n"
     ]
    },
    {
     "data": {
      "text/plain": [
       "array([[0.60686073, 0.85924016, 0.58464653, 0.1170279 , 0.10352622,\n",
       "        0.03080936, 0.13134276, 0.37499619, 0.69653126, 0.05145151],\n",
       "       [0.76317621, 0.36268377, 0.31385024, 0.12236925, 0.84214819,\n",
       "        0.30969247, 0.54372844, 0.54788776, 0.63303193, 0.93667779],\n",
       "       [0.05185333, 0.72513536, 0.43671062, 0.0838936 , 0.51251292,\n",
       "        0.3286511 , 0.82396326, 0.64861993, 0.32157125, 0.99609408],\n",
       "       [0.32224658, 0.2897046 , 0.43381884, 0.84127649, 0.12525567,\n",
       "        0.7771133 , 0.82767815, 0.28568022, 0.46359345, 0.48891809],\n",
       "       [0.85796113, 0.4409931 , 0.60341701, 0.97414843, 0.21112539,\n",
       "        0.0013757 , 0.68669766, 0.65326155, 0.30763722, 0.05991475],\n",
       "       [0.72657839, 0.56761995, 0.63566683, 0.33846   , 0.95283331,\n",
       "        0.90541906, 0.49909295, 0.05543954, 0.77648981, 0.49920244],\n",
       "       [0.05988793, 0.88067989, 0.61565621, 0.76848224, 0.93778853,\n",
       "        0.83369285, 0.32640229, 0.65684298, 0.93382708, 0.75015804],\n",
       "       [0.4099942 , 0.34394443, 0.91228493, 0.89706425, 0.90404732,\n",
       "        0.11584064, 0.58282854, 0.7589477 , 0.18217967, 0.82945449],\n",
       "       [0.97270449, 0.98309238, 0.85641136, 0.71380543, 0.55789713,\n",
       "        0.9808914 , 0.27190573, 0.97889245, 0.09450719, 0.3021878 ],\n",
       "       [0.60926477, 0.76472401, 0.12797479, 0.91806269, 0.71605459,\n",
       "        0.46818345, 0.65366589, 0.78287115, 0.34524726, 0.77128383]])"
      ]
     },
     "execution_count": 31,
     "metadata": {},
     "output_type": "execute_result"
    }
   ],
   "source": [
    "x = np.random.random((10,10))\n",
    "print(\"Original Array:\")\n",
    "x \n"
   ]
  },
  {
   "cell_type": "code",
   "execution_count": 32,
   "id": "danish-gallery",
   "metadata": {},
   "outputs": [
    {
     "name": "stdout",
     "output_type": "stream",
     "text": [
      "Minimum and Maximum Values:\n",
      "0.00137569756956879 0.9960940777974012\n"
     ]
    }
   ],
   "source": [
    "xmin, xmax = x.min(), x.max()\n",
    "print(\"Minimum and Maximum Values:\")\n",
    "print(xmin, xmax)"
   ]
  },
  {
   "cell_type": "markdown",
   "id": "south-portugal",
   "metadata": {},
   "source": [
    "# 6. Create a random vector of size 30 and find the mean value.\n"
   ]
  },
  {
   "cell_type": "code",
   "execution_count": 46,
   "id": "finished-sheffield",
   "metadata": {},
   "outputs": [
    {
     "data": {
      "text/plain": [
       "array([0.79368487, 0.13102025, 0.36545284, 0.47588905, 0.49321337,\n",
       "       0.79110997, 0.98356003, 0.32511273, 0.21863002, 0.84565084,\n",
       "       0.97600314, 0.86652306, 0.73594654, 0.30361019, 0.42496764,\n",
       "       0.4299824 , 0.43974825, 0.82675064, 0.74171492, 0.57967088,\n",
       "       0.60463403, 0.42447936, 0.03413812, 0.51428571, 0.03140111,\n",
       "       0.3117278 , 0.44041916, 0.36461605, 0.93867948, 0.19098769])"
      ]
     },
     "execution_count": 46,
     "metadata": {},
     "output_type": "execute_result"
    }
   ],
   "source": [
    "c = np.random.random(30)\n",
    "\n",
    "c\n"
   ]
  },
  {
   "cell_type": "code",
   "execution_count": 47,
   "id": "twenty-parcel",
   "metadata": {},
   "outputs": [
    {
     "data": {
      "text/plain": [
       "0.5201203380079884"
      ]
     },
     "execution_count": 47,
     "metadata": {},
     "output_type": "execute_result"
    }
   ],
   "source": [
    "a=np.mean(c)\n",
    "a"
   ]
  },
  {
   "cell_type": "code",
   "execution_count": null,
   "id": "committed-spotlight",
   "metadata": {},
   "outputs": [],
   "source": []
  }
 ],
 "metadata": {
  "kernelspec": {
   "display_name": "Python 3",
   "language": "python",
   "name": "python3"
  },
  "language_info": {
   "codemirror_mode": {
    "name": "ipython",
    "version": 3
   },
   "file_extension": ".py",
   "mimetype": "text/x-python",
   "name": "python",
   "nbconvert_exporter": "python",
   "pygments_lexer": "ipython3",
   "version": "3.9.5"
  }
 },
 "nbformat": 4,
 "nbformat_minor": 5
}
